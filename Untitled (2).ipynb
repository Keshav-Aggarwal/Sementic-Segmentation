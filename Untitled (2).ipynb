{
 "cells": [
  {
   "cell_type": "code",
   "execution_count": 2,
   "metadata": {},
   "outputs": [],
   "source": [
    "def get_channels(val):\n",
    "    r, g, b = 0,0,0\n",
    "    if (val > 99):\n",
    "        b = int(val / 100)\n",
    "        val = int(val % 100)\n",
    "#         print('val1', val)\n",
    "    if(val > 9):\n",
    "        g = int(val / 10)\n",
    "        val = val % 10\n",
    "#         print('val2', val)\n",
    "    r = val\n",
    "    return [float(r),float(g),float(b)]"
   ]
  },
  {
   "cell_type": "code",
   "execution_count": 3,
   "metadata": {},
   "outputs": [],
   "source": [
    "def get_outMatrix(mat):\n",
    "    out_arr = []\n",
    "    for v in mat:\n",
    "        i_arr = []\n",
    "        for item in v:\n",
    "            i_arr.append(get_channels(item))\n",
    "        out_arr.append(i_arr)\n",
    "    return out_arr"
   ]
  },
  {
   "cell_type": "code",
   "execution_count": 14,
   "metadata": {},
   "outputs": [
    {
     "name": "stderr",
     "output_type": "stream",
     "text": [
      "Clipping input data to the valid range for imshow with RGB data ([0..1] for floats or [0..255] for integers).\n"
     ]
    },
    {
     "name": "stdout",
     "output_type": "stream",
     "text": [
      "Size is [3, 3, 1, 3]\n"
     ]
    },
    {
     "data": {
      "image/png": "[encoded data removed]",
      "text/plain": [
       "<Figure size 432x288 with 1 Axes>"
      ]
     },
     "metadata": {},
     "output_type": "display_data"
    },
    {
     "name": "stderr",
     "output_type": "stream",
     "text": [
      "Clipping input data to the valid range for imshow with RGB data ([0..1] for floats or [0..255] for integers).\n"
     ]
    },
    {
     "name": "stdout",
     "output_type": "stream",
     "text": [
      "Input Shape: (1, 4, 4, 3)\n",
      "Output Shape: (1, 8, 8, 1)\n"
     ]
    },
    {
     "data": {
      "image/png": "[encoded data removed]",
      "text/plain": [
       "<Figure size 864x864 with 1 Axes>"
      ]
     },
     "metadata": {},
     "output_type": "display_data"
    }
   ],
   "source": [
    "import tensorflow as tf\n",
    "import numpy as np\n",
    "import matplotlib.pyplot as plt\n",
    "%matplotlib inline\n",
    "# def kernel_init(size):\n",
    "#     return np.ones(shape=(3,3), dtype=np.float32)\n",
    "\n",
    "def custom_init(shape, dtype=tf.float32, partition_info=None, seed=0):\n",
    "   print(\"Size is\", shape)\n",
    "#     return tf.constant([[1,1,1],[1,1,1],[1,1,1]], dtype=tf.float32)\n",
    "   t = tf.random_normal(shape, dtype=dtype)\n",
    "   return tf.ones_like(t)\n",
    "#    return t\n",
    "\n",
    "def upsample(x):\n",
    "   conv = tf.layers.conv2d_transpose(x, 1, (3,3), (2,2), padding='SAME', kernel_initializer=custom_init)\n",
    "   return conv\n",
    "img = plt.imread('dot.jpg')\n",
    "\n",
    "data = []\n",
    "data.append(img) \n",
    "d = img[:,:,0]\n",
    "d.setflags(write=1)\n",
    "d[5][5] = 0\n",
    "d[3][3] = 0\n",
    "\n",
    "channel_r = np.array([[1,0,0,1],[1,1,0,0],[0,1,1,0],[0,0,0,0]], dtype=np.float32)\n",
    "channel_g = np.array([[0,10,0,10],[10,0,10,0],[0,10,0,10],[0,0,10,0]], dtype=np.float32)\n",
    "channel_b = np.array([[0,0,100,100],[100,0,0,100],[100,111,0,0],[0,100,0,0]], dtype=np.float32)\n",
    "\n",
    "data[0] = np.dstack([channel_r, channel_g, channel_b])\n",
    "\n",
    "# print(\"data\", data)\n",
    "plt.imshow(data[0])\n",
    "x = tf.placeholder(tf.float32, shape=[1,4,4,3])\n",
    "conv = upsample(x)\n",
    "\n",
    "with tf.Session() as sess:\n",
    "   sess.run(tf.global_variables_initializer())\n",
    "   result = sess.run(conv, feed_dict={x: data})\n",
    "#    print(\"result \", result[0].shape)\n",
    "   output = get_outMatrix(result[0])\n",
    "   plt.show()\n",
    "   plt.figure(figsize=(12,12))\n",
    "   plt.imshow(output)\n",
    "\n",
    "#    plt.imshow(result[0])\n",
    "#    result[0][5]\n",
    "   print('Input Shape: {}'.format(x.get_shape()))\n",
    "   print('Output Shape: {}'.format(result.shape))"
   ]
  },
  {
   "cell_type": "code",
   "execution_count": null,
   "metadata": {},
   "outputs": [],
   "source": []
  }
 ],
 "metadata": {
  "kernelspec": {
   "display_name": "Python 3",
   "language": "python",
   "name": "python3"
  },
  "language_info": {
   "codemirror_mode": {
    "name": "ipython",
    "version": 3
   },
   "file_extension": ".py",
   "mimetype": "text/x-python",
   "name": "python",
   "nbconvert_exporter": "python",
   "pygments_lexer": "ipython3",
   "version": "3.6.0"
  }
 },
 "nbformat": 4,
 "nbformat_minor": 2
}
